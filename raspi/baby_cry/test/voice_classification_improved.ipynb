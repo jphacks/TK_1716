{
 "cells": [
  {
   "cell_type": "code",
   "execution_count": 1,
   "metadata": {},
   "outputs": [],
   "source": [
    "% matplotlib inline\n",
    "\n",
    "from scikits.talkbox.features import mfcc\n",
    "import numpy as np\n",
    "import scipy as sp\n",
    "import matplotlib.pyplot as plt\n",
    "import soundfile as sf\n",
    "import pyaudio as pa\n",
    "import re\n",
    "import os\n",
    "from collections import defaultdict\n",
    "from collections import Counter\n",
    "\n",
    "random_state=24"
   ]
  },
  {
   "cell_type": "markdown",
   "metadata": {},
   "source": [
    "音声ファイルimport"
   ]
  },
  {
   "cell_type": "code",
   "execution_count": 2,
   "metadata": {},
   "outputs": [],
   "source": [
    "files = []\n",
    "datapath = '../cry_data/devided_wav_data/'\n",
    "\n",
    "for x in os.listdir(datapath):  \n",
    "    if '.wav' in x:\n",
    "        files.append(x)"
   ]
  },
  {
   "cell_type": "markdown",
   "metadata": {},
   "source": [
    "mfccで特徴量とラベルのセット作成"
   ]
  },
  {
   "cell_type": "code",
   "execution_count": 3,
   "metadata": {},
   "outputs": [],
   "source": [
    "label_dict = {'hu':0, 'ti':1, 'dc':2}\n",
    "X_dict = defaultdict(list)\n",
    "y_dict = defaultdict(list)\n",
    "for f in files:\n",
    "    x, sample_rate = sf.read(datapath + f)\n",
    "    x = np.clip(x, 1e-10, 1)\n",
    "    ceps,mspec,spec = mfcc(x, nwin=256, nfft=512, fs=8000, nceps=13)\n",
    "    X_dict[re.sub(r'^\\d*-', '', f)].append(np.mean(ceps, axis=0))\n",
    "    if '-hu.' in f:\n",
    "        y_dict[re.sub(r'^\\d*-', '', f)].append(label_dict['hu'])\n",
    "    elif '-ti.' in f:\n",
    "        y_dict[re.sub(r'^\\d*-', '', f)].append(label_dict['ti'])\n",
    "    else:\n",
    "        y_dict[re.sub(r'^\\d*-', '', f)].append(label_dict['dc'])\n",
    "X_dict = dict(X_dict)\n",
    "y_dict = dict(y_dict)\n",
    "for k, v in X_dict.items():\n",
    "    X_dict[k] = np.array(v)\n",
    "for k, v in y_dict.items():\n",
    "    y_dict[k] = np.array(v)"
   ]
  },
  {
   "cell_type": "markdown",
   "metadata": {},
   "source": [
    "分類器で学習、評価"
   ]
  },
  {
   "cell_type": "code",
   "execution_count": 7,
   "metadata": {},
   "outputs": [],
   "source": [
    "from sklearn.ensemble import RandomForestClassifier\n",
    "from sklearn.svm import LinearSVC, SVC\n",
    "from xgboost import XGBClassifier\n",
    "from sklearn.model_selection import StratifiedKFold\n",
    "from sklearn.metrics import precision_score, recall_score, f1_score"
   ]
  },
  {
   "cell_type": "code",
   "execution_count": 9,
   "metadata": {},
   "outputs": [
    {
     "name": "stderr",
     "output_type": "stream",
     "text": [
      "/home/kakiuchi/.pyenv/versions/2.7.13/envs/jphacks2/lib/python2.7/site-packages/sklearn/metrics/classification.py:1135: UndefinedMetricWarning: Precision is ill-defined and being set to 0.0 in labels with no predicted samples.\n",
      "  'precision', 'predicted', average, warn_for)\n",
      "/home/kakiuchi/.pyenv/versions/2.7.13/envs/jphacks2/lib/python2.7/site-packages/sklearn/metrics/classification.py:1135: UndefinedMetricWarning: F-score is ill-defined and being set to 0.0 in labels with no predicted samples.\n",
      "  'precision', 'predicted', average, warn_for)\n"
     ]
    }
   ],
   "source": [
    "precision = 0\n",
    "recall = 0\n",
    "f_value = 0\n",
    "\n",
    "n_splits = 3\n",
    "\n",
    "skf = StratifiedKFold(n_splits=n_splits, random_state=random_state, shuffle=True)\n",
    "file_list = np.array(list(X_dict.keys()))\n",
    "X = np.array(list(X_dict.values()))\n",
    "y = np.array(list(y_dict.values()))\n",
    "y_sample = np.array([a[0] for a in y])\n",
    "for train_index, test_index in skf.split(file_list, y_sample):\n",
    "    X_t, X_v = X[train_index], X[test_index]\n",
    "    y_t, y_v = y[train_index], y[test_index]\n",
    "    X_train = []\n",
    "    y_train = []\n",
    "    for v1 in X_t:\n",
    "        for v2 in v1:\n",
    "            X_train.append(v2)\n",
    "    X_train = np.array(X_train)\n",
    "    for v1 in y_t:\n",
    "        for v2 in v1:\n",
    "            y_train.append(v2)\n",
    "    y_train = np.array(y_train)\n",
    "    \n",
    "    #clf = LinearSVC(random_state=random_state)\n",
    "    clf = RandomForestClassifier(n_estimators=498, random_state=random_state)\n",
    "    # clf = XGBClassifier(max_depth=8, learning_rate=0.05, n_estimators=700, seed=random_state)\n",
    "    clf.fit(X_train, y_train)\n",
    "    \n",
    "    pred_array = []\n",
    "    for i in range(len(X_v)):\n",
    "        pred = clf.predict(X_v[i])\n",
    "        pred_array.append(Counter(pred).most_common(1)[0][0])\n",
    "    pred_array = np.array(pred_array)\n",
    "    y_valid = np.array([a[0] for a in y_v])\n",
    "    \n",
    "    precision += precision_score(y_valid, pred_array, average='macro')\n",
    "    recall += recall_score(y_valid, pred_array, average='macro')\n",
    "    f_value += f1_score(y_valid, pred_array, average='macro')\n",
    "\n",
    "precision = precision / float(n_splits)\n",
    "recall = recall / float(n_splits)\n",
    "f_value = f_value / float(n_splits)"
   ]
  },
  {
   "cell_type": "code",
   "execution_count": 10,
   "metadata": {},
   "outputs": [
    {
     "data": {
      "text/plain": [
       "0.34539842873176202"
      ]
     },
     "execution_count": 10,
     "metadata": {},
     "output_type": "execute_result"
    }
   ],
   "source": [
    "f_value"
   ]
  },
  {
   "cell_type": "code",
   "execution_count": 66,
   "metadata": {},
   "outputs": [
    {
     "data": {
      "text/plain": [
       "array([0, 0, 0, 2, 0, 0, 1, 0, 1, 0, 2])"
      ]
     },
     "execution_count": 66,
     "metadata": {},
     "output_type": "execute_result"
    }
   ],
   "source": [
    "pred_array"
   ]
  },
  {
   "cell_type": "code",
   "execution_count": null,
   "metadata": {},
   "outputs": [],
   "source": []
  }
 ],
 "metadata": {
  "kernelspec": {
   "display_name": "Python 2",
   "language": "python",
   "name": "python2"
  },
  "language_info": {
   "codemirror_mode": {
    "name": "ipython",
    "version": 2
   },
   "file_extension": ".py",
   "mimetype": "text/x-python",
   "name": "python",
   "nbconvert_exporter": "python",
   "pygments_lexer": "ipython2",
   "version": "2.7.13"
  }
 },
 "nbformat": 4,
 "nbformat_minor": 2
}
