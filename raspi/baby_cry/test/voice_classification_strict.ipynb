{
 "cells": [
  {
   "cell_type": "code",
   "execution_count": 2,
   "metadata": {},
   "outputs": [],
   "source": [
    "% matplotlib inline\n",
    "\n",
    "from scikits.talkbox.features import mfcc\n",
    "import numpy as np\n",
    "import scipy as sp\n",
    "import matplotlib.pyplot as plt\n",
    "import soundfile as sf\n",
    "import pyaudio as pa\n",
    "import re\n",
    "import os\n",
    "from collections import defaultdict\n",
    "from collections import Counter\n",
    "\n",
    "random_state=24"
   ]
  },
  {
   "cell_type": "markdown",
   "metadata": {},
   "source": [
    "音声ファイルimport"
   ]
  },
  {
   "cell_type": "code",
   "execution_count": 3,
   "metadata": {},
   "outputs": [],
   "source": [
    "files = []\n",
    "datapath = '../cry_data/devided_wav_data/'\n",
    "\n",
    "for x in os.listdir(datapath):  \n",
    "    if '.wav' in x:\n",
    "        files.append(x)"
   ]
  },
  {
   "cell_type": "markdown",
   "metadata": {},
   "source": [
    "mfccで特徴量とラベルのセット作成"
   ]
  },
  {
   "cell_type": "code",
   "execution_count": 9,
   "metadata": {},
   "outputs": [],
   "source": [
    "label_dict = {'hu':0, 'ti':1, 'dc':2}\n",
    "X_dict = defaultdict(list)\n",
    "y_dict = defaultdict(list)\n",
    "for f in files:\n",
    "    x, sample_rate = sf.read(datapath + f)\n",
    "    x = np.clip(x, 1e-10, 1)\n",
    "    ceps,mspec,spec = mfcc(x, nwin=256, nfft=512, fs=8000, nceps=13)\n",
    "    if '-hu.' in f:\n",
    "        for cep in ceps:\n",
    "            X_dict[re.sub(r'^\\d*-', '', f)].append(cep)\n",
    "            y_dict[re.sub(r'^\\d*-', '', f)].append(label_dict['hu'])\n",
    "    elif '-ti.' in f:\n",
    "        for cep in ceps:\n",
    "            X_dict[re.sub(r'^\\d*-', '', f)].append(cep)\n",
    "            y_dict[re.sub(r'^\\d*-', '', f)].append(label_dict['ti'])\n",
    "    else:\n",
    "        for cep in ceps:\n",
    "            X_dict[re.sub(r'^\\d*-', '', f)].append(cep)\n",
    "            y_dict[re.sub(r'^\\d*-', '', f)].append(label_dict['dc'])\n",
    "X_dict = dict(X_dict)\n",
    "y_dict = dict(y_dict)\n",
    "for k, v in X_dict.items():\n",
    "    X_dict[k] = np.array(v)\n",
    "for k, v in y_dict.items():\n",
    "    y_dict[k] = np.array(v)"
   ]
  },
  {
   "cell_type": "markdown",
   "metadata": {},
   "source": [
    "分類器で学習、評価"
   ]
  },
  {
   "cell_type": "code",
   "execution_count": 17,
   "metadata": {},
   "outputs": [],
   "source": [
    "from sklearn.ensemble import RandomForestClassifier\n",
    "from sklearn.svm import LinearSVC, SVC\n",
    "from xgboost import XGBClassifier\n",
    "from sklearn.neighbors import KNeighborsClassifier\n",
    "from sklearn.model_selection import StratifiedKFold\n",
    "from sklearn.metrics import precision_score, recall_score, f1_score"
   ]
  },
  {
   "cell_type": "code",
   "execution_count": 34,
   "metadata": {},
   "outputs": [],
   "source": [
    "precision = 0\n",
    "recall = 0\n",
    "f_value = 0\n",
    "\n",
    "n_splits = 7\n",
    "\n",
    "skf = StratifiedKFold(n_splits=n_splits, random_state=random_state, shuffle=True)\n",
    "file_list = np.array(list(X_dict.keys()))\n",
    "X = np.array(list(X_dict.values()))\n",
    "y = np.array(list(y_dict.values()))\n",
    "y_sample = np.array([a[0] for a in y])\n",
    "for train_index, test_index in skf.split(file_list, y_sample):\n",
    "    X_t, X_v = X[train_index], X[test_index]\n",
    "    y_t, y_v = y[train_index], y[test_index]\n",
    "    X_train = []\n",
    "    y_train = []\n",
    "    for v1 in X_t:\n",
    "        for v2 in v1:\n",
    "            X_train.append(v2)\n",
    "    X_train = np.array(X_train)\n",
    "    for v1 in y_t:\n",
    "        for v2 in v1:\n",
    "            y_train.append(v2)\n",
    "    y_train = np.array(y_train)\n",
    "    \n",
    "    #clf = LinearSVC(random_state=random_state)\n",
    "    clf = RandomForestClassifier(n_estimators=298, random_state=random_state)\n",
    "    # clf = XGBClassifier(max_depth=8, learning_rate=0.05, n_estimators=700, seed=random_state)\n",
    "    #clf = KNeighborsClassifier(algorithm='ball_tree',n_neighbors=3, weights='uniform', p=1)\n",
    "    clf.fit(X_train, y_train)\n",
    "    \n",
    "    pred_array = []\n",
    "    for i in range(len(X_v)):\n",
    "        pred = clf.predict(X_v[i])\n",
    "        pred_array.append(Counter(pred).most_common(1)[0][0])\n",
    "    pred_array = np.array(pred_array)\n",
    "    y_valid = np.array([a[0] for a in y_v])\n",
    "    \n",
    "    precision += precision_score(y_valid, pred_array, average='macro')\n",
    "    recall += recall_score(y_valid, pred_array, average='macro')\n",
    "    f_value += f1_score(y_valid, pred_array, average='macro')\n",
    "\n",
    "precision = precision / float(n_splits)\n",
    "recall = recall / float(n_splits)\n",
    "f_value = f_value / float(n_splits)"
   ]
  },
  {
   "cell_type": "code",
   "execution_count": 35,
   "metadata": {},
   "outputs": [
    {
     "data": {
      "text/plain": [
       "0.47403628117913837"
      ]
     },
     "execution_count": 35,
     "metadata": {},
     "output_type": "execute_result"
    }
   ],
   "source": [
    "f_value"
   ]
  },
  {
   "cell_type": "code",
   "execution_count": 13,
   "metadata": {},
   "outputs": [
    {
     "data": {
      "text/plain": [
       "array([0, 0, 0, 0, 2, 0, 0, 2, 0, 1, 0, 0, 1, 2, 2, 0, 0, 2])"
      ]
     },
     "execution_count": 13,
     "metadata": {},
     "output_type": "execute_result"
    }
   ],
   "source": [
    "pred_array"
   ]
  },
  {
   "cell_type": "code",
   "execution_count": 8,
   "metadata": {},
   "outputs": [
    {
     "data": {
      "text/plain": [
       "array([ array([ -1.16506500e+01,  -2.17904505e+00,  -4.93832402e-01,\n",
       "         6.26877868e-01,   5.45670657e-03,  -7.48441120e-01,\n",
       "         1.24332992e-01,  -2.45808878e-01,  -3.90898699e-01,\n",
       "         2.77513033e-01,  -2.73682211e-01,   6.80038883e-01,\n",
       "        -6.53030230e-02]),\n",
       "       1,\n",
       "       array([ -1.32480825e+01,   6.13861881e-01,  -7.39003352e-01,\n",
       "        -1.01390687e+00,   5.06155338e-02,  -9.89755211e-01,\n",
       "         2.32048599e-03,   1.79234255e-01,   5.45656196e-01,\n",
       "        -9.80990167e-02,  -1.70532136e-01,  -2.24585425e-01,\n",
       "         3.52016311e-01]),\n",
       "       array([ -1.35732394e+01,  -3.15067256e-01,  -3.11660826e-02,\n",
       "         3.47533606e-01,   2.55674821e-01,  -3.26620420e-01,\n",
       "         4.20865539e-01,  -3.23893022e-01,  -2.68884129e-01,\n",
       "         3.69221077e-01,  -3.70329118e-01,  -1.55651574e-03,\n",
       "        -5.96313422e-01]),\n",
       "       2, 2,\n",
       "       array([ -1.27131346e+01,  -1.52155171e+00,  -2.30000696e-01,\n",
       "         2.63160508e-01,  -4.32260388e-01,  -5.85646239e-01,\n",
       "        -1.08421924e-02,  -2.39190312e-01,  -5.99889720e-01,\n",
       "        -1.65069691e-01,  -7.68534324e-01,  -2.79740554e-01,\n",
       "        -5.90504470e-01]),\n",
       "       1, 2, 2, 2, 2,\n",
       "       array([-15.03852478,  -0.47189821,  -0.6060811 ,  -0.75765851,\n",
       "        -0.41511978,  -0.20802034,  -0.36200969,  -0.11426401,\n",
       "         0.06530884,  -0.28022298,  -0.1566555 ,  -0.26311817,   0.30244957]),\n",
       "       1, 2,\n",
       "       array([-13.16301873,  -0.85463947,  -0.58858825,  -0.59813812,\n",
       "        -0.37367633,  -0.1304623 ,  -0.09831246,   0.20155616,\n",
       "        -0.02236744,  -0.73199325,  -0.38845083,   0.04662199,  -0.15549195]),\n",
       "       1,\n",
       "       array([-15.66184552,  -0.05145764,   0.10976534,  -0.09061498,\n",
       "        -0.6426556 ,  -0.26350394,   0.0273353 ,  -0.5616692 ,\n",
       "        -0.90365653,  -0.16034306,  -0.37859258,   0.19676382,   0.30756741]),\n",
       "       1, 2,\n",
       "       array([-14.81553806,  -0.28683152,  -0.69833209,  -0.60469508,\n",
       "         0.06963419,  -0.4227179 ,  -0.20475573,  -0.50385438,\n",
       "        -0.25149748,  -0.15029127,   0.20153965,   0.4026298 ,   0.36364686]),\n",
       "       2,\n",
       "       array([-13.45146183,  -0.70587688,  -1.35073029,  -1.07347461,\n",
       "         0.13193964,  -0.66734406,   0.16761938,   0.10496081,\n",
       "         0.17584829,  -0.49723187,  -0.5212268 ,  -0.65881258,  -0.69142242]),\n",
       "       2,\n",
       "       array([-13.18478122,  -0.8082885 ,  -0.7011303 ,  -0.62438042,\n",
       "        -0.52954115,  -0.35385701,  -0.32734766,  -0.3436153 ,\n",
       "        -0.21839065,   0.07656737,   0.28195168,   0.35650245,   0.18403683]),\n",
       "       array([-12.58568318,   0.13030666,  -0.46328213,  -0.89999875,\n",
       "        -0.61523956,  -0.0514946 ,   0.16537099,   0.39474795,\n",
       "         0.40179625,  -0.01329572,   0.1242884 ,   0.40435558,   0.17280982]),\n",
       "       1, 1,\n",
       "       array([-11.10553473,  -1.06251193,  -0.56408703,  -0.21912554,\n",
       "        -0.0656576 ,   0.04133497,  -0.26891274,  -0.15547018,\n",
       "        -0.12564204,  -0.09164681,   0.21263689,   0.06225065,  -0.02707495]),\n",
       "       array([-15.15913026,   0.51906351,  -0.30470205,  -0.52979645,\n",
       "        -0.02337253,  -0.65558164,  -0.21838205,  -0.23493669,\n",
       "        -0.13206882,  -0.51091607,  -0.09910053,   0.39644066,   0.39826542]),\n",
       "       array([ -1.17717435e+01,  -1.98467363e+00,  -9.34119458e-01,\n",
       "        -1.87823252e-01,   3.88308014e-02,   4.85172559e-02,\n",
       "         1.82747377e-01,   1.11206155e-02,  -4.75324127e-01,\n",
       "         2.00963042e-02,   4.95821690e-01,  -1.39066417e-01,\n",
       "        -1.05260586e-01]),\n",
       "       array([ -1.01299030e+01,  -1.82589642e+00,  -9.90059691e-01,\n",
       "        -5.95478605e-01,  -2.46443527e-01,  -4.75508821e-01,\n",
       "        -2.62991628e-01,   5.89081943e-03,   6.27017245e-01,\n",
       "         9.50974484e-02,  -6.92642013e-01,  -1.69108989e-01,\n",
       "         2.67424046e-01]),\n",
       "       array([-16.80308335,   0.879564  ,   0.39872909,   0.18573404,\n",
       "         0.06700326,  -0.62583089,   0.20219986,   0.18201122,\n",
       "        -0.2071188 ,  -0.11744333,   0.27698385,   0.15511432,  -0.05560741]),\n",
       "       array([-14.38406063,  -1.358877  ,  -0.47415202,   0.21247188,\n",
       "         0.26435066,  -0.34078981,   0.08827586,  -0.17457661,\n",
       "        -0.16077822,   0.11673495,  -0.02708022,   0.14257101,  -0.09691944]),\n",
       "       2, 1,\n",
       "       array([-13.17178283,  -1.08184866,   0.40859053,   0.56266975,\n",
       "        -0.67940598,   0.37606986,   0.39130249,   0.28427862,\n",
       "        -0.01964684,   0.43688042,  -0.20487653,   0.61173884,  -0.17331626]),\n",
       "       array([ -1.30312812e+01,  -2.46588059e+00,  -1.50263051e+00,\n",
       "        -5.01838175e-01,   4.33067444e-01,  -1.00585205e-02,\n",
       "         9.81412883e-02,  -7.64277973e-01,  -2.73611153e-01,\n",
       "         6.62912086e-01,   3.50560745e-03,  -8.14612361e-01,\n",
       "        -6.64862558e-01]),\n",
       "       1,\n",
       "       array([-12.98398063,  -2.25255945,  -0.60365489,   0.57754429,\n",
       "         0.13058745,  -0.64808758,  -0.03091082,  -0.43927131,\n",
       "        -0.12510882,   0.64987765,  -0.41830373,   0.29619221,  -0.38265311]),\n",
       "       1, 1, 1, 1,\n",
       "       array([-15.0502984 ,  -1.87907446,  -0.24510964,  -0.11235157,\n",
       "        -1.0600805 ,  -0.12809623,  -0.47187521,  -0.12869154,\n",
       "         0.11890836,   0.35909604,  -0.53988583,  -0.70984182,  -1.23442681]),\n",
       "       array([-13.28809858,  -0.57790712,  -0.96012838,  -0.56615682,\n",
       "         0.45080497,  -0.46841164,  -0.26312055,  -0.80093024,\n",
       "         0.12584899,   0.62050376,   0.46945365,   0.47104082,  -0.06615   ]),\n",
       "       2, 2,\n",
       "       array([-15.64167599,   1.79767566,   0.18182647,  -0.68943028,\n",
       "        -0.26112349,  -0.81379207,  -0.04125374,  -0.08705296,\n",
       "        -0.14269014,  -0.73543869,  -0.6535241 ,  -0.35152552,  -0.08492217]),\n",
       "       array([-13.25503477,  -2.31679167,  -1.05553593,  -0.37671632,\n",
       "        -0.28264642,  -0.34716812,  -0.28294603,  -0.06037841,\n",
       "         0.11466765,  -0.16433724,  -0.47524849,  -0.30580315,  -0.28450942]),\n",
       "       1, 1, 2, 2, 1, 2, 1,\n",
       "       array([ -1.46696794e+01,  -6.08248686e-02,  -6.70595473e-01,\n",
       "        -7.10915894e-01,  -2.18021615e-02,   1.22927084e-02,\n",
       "         4.13062220e-01,   1.85025277e-01,  -1.41184465e-01,\n",
       "        -3.82935638e-01,  -1.56135008e-01,  -2.02324605e-01,\n",
       "        -2.55573839e-02]),\n",
       "       2], dtype=object)"
      ]
     },
     "execution_count": 8,
     "metadata": {},
     "output_type": "execute_result"
    }
   ],
   "source": [
    "y_sample"
   ]
  },
  {
   "cell_type": "code",
   "execution_count": null,
   "metadata": {},
   "outputs": [],
   "source": []
  }
 ],
 "metadata": {
  "kernelspec": {
   "display_name": "Python 2",
   "language": "python",
   "name": "python2"
  },
  "language_info": {
   "codemirror_mode": {
    "name": "ipython",
    "version": 2
   },
   "file_extension": ".py",
   "mimetype": "text/x-python",
   "name": "python",
   "nbconvert_exporter": "python",
   "pygments_lexer": "ipython2",
   "version": "2.7.13"
  }
 },
 "nbformat": 4,
 "nbformat_minor": 2
}
